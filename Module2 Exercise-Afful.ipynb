{
 "cells": [
  {
   "cell_type": "markdown",
   "metadata": {},
   "source": [
    "## Exercises\n",
    "### Write the pseudocode for these problems. \n",
    "\n",
    "#### Define the problem by constructing an IPO diagram showing input, output, and processing steps\n",
    "Ask yourself\n",
    "- What control structures (sequence, selection and repetition) are required?\n",
    "- What variables are required?\n",
    "\n",
    "Show a check of your solution with **test data** for at least **two valid test cases**\n",
    "If you use the numbers provided in the example then the correct pseudocode will calculate the same result.\n",
    "    "
   ]
  },
  {
   "cell_type": "markdown",
   "metadata": {},
   "source": [
    "#### 1. Find the average score\n",
    "A program is needed to prompt the user operator for exam scores, calculate the average score and display the result to the screen. The average score is calculated as the sum of the scores divided by the number of scores."
   ]
  },
  {
   "cell_type": "markdown",
   "metadata": {},
   "source": [
    "Begin\n",
    "\n",
    "Set counter to 1 \n",
    "set total to 0\n",
    "Loop counter\n",
    "Prompt user for a number\n",
    "Ger number\n",
    "Add number to total \n",
    "Add 1 to counter \n",
    "End Loop\n",
    "\n",
    "Average = Total divided by 5\n",
    "Print Average \n",
    "\n",
    "End "
   ]
  },
  {
   "cell_type": "markdown",
   "metadata": {},
   "source": [
    "#### 2. How much water runs off a roof in a rain storm?\n",
    "To calculate the runoff from any given rainfall: Take the dimensions of the footprint of the roof and convert them to inches. (So, a 50' x 20' roof is 600\" x 240\"). Multiply the roof dimensions by the number of inches of rainfall. As an example, 600\" x 240\" x 1\" = 144,000 cubic inches of water for an inch of rainfall. Divide that result by 231 to get the number of gallons (because 1 gallon = 231 cubic inches). (144,000/231 = 623.38)."
   ]
  },
  {
   "cell_type": "markdown",
   "metadata": {},
   "source": [
    "Begin\n",
    "Prompt user for rainfall and the dimentions of the footprint of the roof\n",
    "\n",
    "Calculate and convert the dimensions from feet to inches. Multiple dimention value by 12  \n",
    "Calculate the roof dimensions by the number of inches of rainfall then divide that result by 231 (RunOff = dimention1 * dimention2 * inchRain / 231)\n",
    "Display the Runoff\n",
    "\n",
    "End"
   ]
  },
  {
   "cell_type": "markdown",
   "metadata": {},
   "source": [
    "#### 3. Process customer record\n",
    "A program is required to read a customer’s name, a purchase amount and a tax code. The tax code has been validated and will be one of the following: 0 tax exempt (0%) 1 state sales tax only (3%) 2 federal and state sales tax (5%) 3 special sales tax (7%) The program must then compute the sales tax and the total amount due,and print the customer’s name, purchase amount, sales tax and total amount due."
   ]
  },
  {
   "cell_type": "markdown",
   "metadata": {},
   "source": [
    "Input: User's name, the purchase amount and the tax code\n",
    "\n",
    "Process: Compute the sales tax and the total amount due. Print the user's name, the purchase amount, the sales tax, and the total amount due\n",
    "\n",
    "Output:Print the user's name, the purchase amount, the sales tax, and the total amount due\n",
    "- - - - - - - - - - - - - - - - - - - - - - - - - - - - - - - - - - - - - - - - - - - - - - - - - - - - - - - - - - \n",
    "Begin\n",
    "\n",
    "taxcode1 = 0\n",
    "taxcode2 = 0.03\n",
    "taxcode3 = 0.05\n",
    "taxcode4 = 0.07\n",
    "\n",
    "Prompt customer for their name, purchase amount, and a tax code\n",
    "\n",
    "Calculate total = purchase amount * taxcode ,salestax = total - purchase amount\n",
    "\n",
    "Display the customers name, purchase amount, sales tax, and the total amount\n",
    "\n",
    "End\n",
    "\n"
   ]
  },
  {
   "cell_type": "markdown",
   "metadata": {},
   "source": [
    "#### 4. Calculate employee's pay \n",
    "A program is required by a company to read an employee’s number, pay rate and the number of hours worked in a week. The program is then to validate the pay rate field and the hours worked field and, if valid, compute the employee’s weekly pay and then print it and the input data.\n",
    "\n",
    "Validation: According to the company’s rules, the maximum hours an employee can work per week is 60 hours, and the maximum hourly rate is $25.00 per hour. If the hours worked field or the hourly rate field is out of range, the input data and an appropriate message are to be printed and the employee’s weekly pay is not to be calculated.\n",
    "\n",
    "Weekly pay calculation: Weekly pay is calculated as hours worked times pay rate. If more than 35 hours are worked, payment for the overtime hours worked is calculated at time-and-a-half."
   ]
  },
  {
   "cell_type": "markdown",
   "metadata": {},
   "source": [
    "Input: Employee's number, pay rate, and number of hours worked within a week\n",
    "\n",
    "Process: Check to see if the input from the employee is valid if the information is valid or not. If the inform\n",
    "\n",
    "Output: If employee input is not valid print out \"Weekly pay is not to be calculated\". If the employee worked more than 35 hours calculate for overtime hours then print the pay. Otherwise print the employee's pay\n",
    "- - - - - - - - - - - - - - - - - - - - - - - - - - - - - - - - - - - - - - - - - - - - - - - - - - - - - - - - - - \n",
    "Begin\n",
    "\n",
    "Prompt employee for their employee number, pay rate, and the number of hours worked in a week\n",
    "\n",
    "Loop\n",
    "if hours worked is >=60 and pay rate is >=25\n",
    "WeeklyPay = Hours * payrate\n",
    "Else tell the user \"Employee's weekly pay is not to be calculated\" and End\n",
    "\n",
    "If hours is more than 35 calculate for overtime hours and output that number as the WeeklyPay\n",
    "\n",
    "End\n",
    "\n"
   ]
  }
 ],
 "metadata": {
  "kernelspec": {
   "display_name": "Python 3",
   "language": "python",
   "name": "python3"
  },
  "language_info": {
   "codemirror_mode": {
    "name": "ipython",
    "version": 3
   },
   "file_extension": ".py",
   "mimetype": "text/x-python",
   "name": "python",
   "nbconvert_exporter": "python",
   "pygments_lexer": "ipython3",
   "version": "3.8.8"
  }
 },
 "nbformat": 4,
 "nbformat_minor": 2
}
